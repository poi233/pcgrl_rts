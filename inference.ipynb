{
 "cells": [
  {
   "cell_type": "markdown",
   "metadata": {},
   "source": [
    "# Required dependencies"
   ]
  },
  {
   "cell_type": "code",
   "execution_count": 1,
   "metadata": {},
   "outputs": [
    {
     "name": "stdout",
     "output_type": "stream",
     "text": [
      "WARNING:tensorflow:\n",
      "The TensorFlow contrib module will not be included in TensorFlow 2.0.\n",
      "For more information, please see:\n",
      "  * https://github.com/tensorflow/community/blob/master/rfcs/20180907-contrib-sunset.md\n",
      "  * https://github.com/tensorflow/addons\n",
      "  * https://github.com/tensorflow/io (for I/O related ops)\n",
      "If you depend on functionality not listed there, please file an issue.\n",
      "\n"
     ]
    }
   ],
   "source": [
    "import model\n",
    "from stable_baselines import PPO2\n",
    "\n",
    "import time\n",
    "from utils import make_vec_envs\n",
    "\n",
    "%matplotlib inline\n",
    "import matplotlib.pyplot as plt\n",
    "from IPython import display"
   ]
  },
  {
   "cell_type": "markdown",
   "metadata": {},
   "source": [
    "# Defining the parameters and loading the model and environment"
   ]
  },
  {
   "cell_type": "code",
   "execution_count": 2,
   "metadata": {},
   "outputs": [
    {
     "name": "stdout",
     "output_type": "stream",
     "text": [
      "Loading a model without an environment, this model cannot be trained until it has a valid environment.\n",
      "WARNING:tensorflow:From /Users/puyihao/.conda/envs/pcgrl/lib/python3.5/site-packages/stable_baselines/common/tf_util.py:191: The name tf.ConfigProto is deprecated. Please use tf.compat.v1.ConfigProto instead.\n",
      "\n",
      "WARNING:tensorflow:From /Users/puyihao/.conda/envs/pcgrl/lib/python3.5/site-packages/stable_baselines/common/tf_util.py:200: The name tf.Session is deprecated. Please use tf.compat.v1.Session instead.\n",
      "\n",
      "WARNING:tensorflow:From /Users/puyihao/.conda/envs/pcgrl/lib/python3.5/site-packages/stable_baselines/common/policies.py:116: The name tf.variable_scope is deprecated. Please use tf.compat.v1.variable_scope instead.\n",
      "\n",
      "WARNING:tensorflow:From /Users/puyihao/.conda/envs/pcgrl/lib/python3.5/site-packages/stable_baselines/common/input.py:25: The name tf.placeholder is deprecated. Please use tf.compat.v1.placeholder instead.\n",
      "\n",
      "WARNING:tensorflow:From /Users/puyihao/.conda/envs/pcgrl/lib/python3.5/site-packages/stable_baselines/a2c/utils.py:136: The name tf.get_variable is deprecated. Please use tf.compat.v1.get_variable instead.\n",
      "\n",
      "WARNING:tensorflow:From /Users/puyihao/.conda/envs/pcgrl/lib/python3.5/site-packages/stable_baselines/common/distributions.py:326: The name tf.random_uniform is deprecated. Please use tf.random.uniform instead.\n",
      "\n",
      "WARNING:tensorflow:From /Users/puyihao/.conda/envs/pcgrl/lib/python3.5/site-packages/stable_baselines/common/distributions.py:327: The name tf.log is deprecated. Please use tf.math.log instead.\n",
      "\n",
      "WARNING:tensorflow:From /Users/puyihao/.conda/envs/pcgrl/lib/python3.5/site-packages/stable_baselines/ppo2/ppo2.py:190: The name tf.summary.scalar is deprecated. Please use tf.compat.v1.summary.scalar instead.\n",
      "\n",
      "WARNING:tensorflow:From /Users/puyihao/.conda/envs/pcgrl/lib/python3.5/site-packages/stable_baselines/ppo2/ppo2.py:198: The name tf.trainable_variables is deprecated. Please use tf.compat.v1.trainable_variables instead.\n",
      "\n",
      "WARNING:tensorflow:From /Users/puyihao/.conda/envs/pcgrl/lib/python3.5/site-packages/tensorflow_core/python/ops/math_grad.py:1424: where (from tensorflow.python.ops.array_ops) is deprecated and will be removed in a future version.\n",
      "Instructions for updating:\n",
      "Use tf.where in 2.0, which has the same broadcast rule as np.where\n",
      "WARNING:tensorflow:From /Users/puyihao/.conda/envs/pcgrl/lib/python3.5/site-packages/stable_baselines/ppo2/ppo2.py:206: The name tf.train.AdamOptimizer is deprecated. Please use tf.compat.v1.train.AdamOptimizer instead.\n",
      "\n",
      "WARNING:tensorflow:From /Users/puyihao/.conda/envs/pcgrl/lib/python3.5/site-packages/stable_baselines/ppo2/ppo2.py:240: The name tf.global_variables_initializer is deprecated. Please use tf.compat.v1.global_variables_initializer instead.\n",
      "\n",
      "WARNING:tensorflow:From /Users/puyihao/.conda/envs/pcgrl/lib/python3.5/site-packages/stable_baselines/ppo2/ppo2.py:242: The name tf.summary.merge_all is deprecated. Please use tf.compat.v1.summary.merge_all instead.\n",
      "\n"
     ]
    },
    {
     "name": "stderr",
     "output_type": "stream",
     "text": [
      "/Users/puyihao/.conda/envs/pcgrl/lib/python3.5/site-packages/gym/logger.py:30: UserWarning: \u001b[33mWARN: Box bound precision lowered by casting to float32\u001b[0m\n",
      "  warnings.warn(colorize('%s: %s'%('WARN', msg % args), 'yellow'))\n"
     ]
    }
   ],
   "source": [
    "game = 'rts'\n",
    "representation = 'turtle'\n",
    "model_path = 'models/{}/{}/model_1.pkl'.format(game, representation)\n",
    "kwargs = {\n",
    "    'change_percentage': 0.4,\n",
    "    'verbose': True\n",
    "}\n",
    "\n",
    "if game == \"binary\":\n",
    "    model.FullyConvPolicy = model.FullyConvPolicyBigMap\n",
    "elif game == \"zelda\":\n",
    "    model.FullyConvPolicy = model.FullyConvPolicyBigMap\n",
    "elif game == \"sokoban\" or game == \"rts\":\n",
    "    model.FullyConvPolicy = model.FullyConvPolicySmallMap\n",
    "\n",
    "agent = PPO2.load(model_path)\n",
    "\n",
    "env_name = '{}-{}-v0'.format(game, representation)\n",
    "if game == \"binary\":\n",
    "    kwargs['cropped_size'] = 28\n",
    "elif game == \"zelda\":\n",
    "    kwargs['cropped_size'] = 22\n",
    "elif game == \"sokoban\" or game == \"rts\":\n",
    "    kwargs['cropped_size'] = 10\n",
    "    \n",
    "env = make_vec_envs(env_name, representation, None, 1, **kwargs)"
   ]
  },
  {
   "cell_type": "markdown",
   "metadata": {},
   "source": [
    "# Run Model"
   ]
  },
  {
   "cell_type": "code",
   "execution_count": 5,
   "metadata": {
    "scrolled": false
   },
   "outputs": [
    {
     "data": {
      "image/png": "[encoded data removed]",
      "text/plain": [
       "<Figure size 432x288 with 1 Axes>"
      ]
     },
     "metadata": {},
     "output_type": "display_data"
    },
    {
     "data": {
      "image/png": "[encoded data removed]",
      "text/plain": [
       "<Figure size 432x288 with 1 Axes>"
      ]
     },
     "metadata": {
      "needs_background": "light"
     },
     "output_type": "display_data"
    }
   ],
   "source": [
    "def show_state(env, step=0, changes=0, total_reward=0, name=\"\"):\n",
    "    fig = plt.figure(10)\n",
    "    plt.clf()\n",
    "    plt.title(\"{} | Step: {} Changes: {} Total Reward: {}\".format(name, step, changes, total_reward))\n",
    "    plt.axis('off')\n",
    "    plt.imshow(env.render(mode='rgb_array'))\n",
    "    display.clear_output(wait=True)\n",
    "    display.display(plt.gcf())\n",
    "    \n",
    "def infer(env, agent, **kwargs):\n",
    "    obs = env.reset()\n",
    "    dones = False\n",
    "    total_rewards = 0\n",
    "    while not dones:\n",
    "        action, _ = agent.predict(obs)\n",
    "        obs, rewards, dones, info = env.step(action)\n",
    "        total_rewards += rewards\n",
    "#         show_state(env, info[0]['iterations'], info[0]['changes'], total_rewards)\n",
    "        if dones:\n",
    "            break\n",
    "        show_state(env, info[0]['iterations'], info[0]['changes'], total_rewards)\n",
    "    if kwargs.get('verbose', False):\n",
    "        print(info[0])\n",
    "    return env\n",
    "\n",
    "env = infer(env, agent, **kwargs)\n",
    "show_state(env)"
   ]
  },
  {
   "cell_type": "code",
   "execution_count": null,
   "metadata": {},
   "outputs": [],
   "source": []
  }
 ],
 "metadata": {
  "anaconda-cloud": {},
  "kernelspec": {
   "display_name": "Python 3",
   "language": "python",
   "name": "python3"
  },
  "pycharm": {
   "stem_cell": {
    "cell_type": "raw",
    "source": [],
    "metadata": {
     "collapsed": false
    }
   }
  }
 },
 "nbformat": 4,
 "nbformat_minor": 2
}